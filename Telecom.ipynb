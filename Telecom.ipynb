{
  "cells": [
    {
      "cell_type": "code",
      "execution_count": null,
      "metadata": {
        "id": "EUG43aiRL6F1"
      },
      "outputs": [],
      "source": [
        "import pandas as pd\n",
        "\n",
        "telecom_df = pd.read_csv(\"telecom_dataset.csv\")\n"
      ]
    },
    {
      "cell_type": "code",
      "execution_count": null,
      "metadata": {
        "colab": {
          "base_uri": "https://localhost:8080/"
        },
        "id": "JP1_dPCCtOET",
        "outputId": "ed46184e-df6f-41b5-e3cb-85f7db2c8528"
      },
      "outputs": [],
      "source": [
        "print(telecom_df)"
      ]
    },
    {
      "cell_type": "code",
      "execution_count": null,
      "metadata": {
        "id": "NYd8dXjDIS5b"
      },
      "outputs": [],
      "source": [
        "import pandas as pd\n",
        "\n",
        "telecom1_df = pd.read_csv(\"telecom_dataset_1.csv\")\n"
      ]
    },
    {
      "cell_type": "code",
      "execution_count": null,
      "metadata": {
        "colab": {
          "base_uri": "https://localhost:8080/"
        },
        "id": "6cfNx3oiHyAu",
        "outputId": "1d2a97ff-c45b-4881-99b8-352b28bcfddb"
      },
      "outputs": [],
      "source": [
        "print(telecom1_df)"
      ]
    },
    {
      "cell_type": "code",
      "execution_count": null,
      "metadata": {
        "id": "qAJq6ADNqFt5"
      },
      "outputs": [],
      "source": [
        "import pandas as pd\n",
        "\n",
        "telecom2_df = pd.read_csv(\"telecom_dataset_2.csv\")"
      ]
    },
    {
      "cell_type": "code",
      "execution_count": null,
      "metadata": {
        "colab": {
          "base_uri": "https://localhost:8080/"
        },
        "id": "N_gbfWKiqL-W",
        "outputId": "8317ce8a-ef50-4f5f-bd02-d768a398037b"
      },
      "outputs": [],
      "source": [
        "print(telecom2_df)"
      ]
    },
    {
      "cell_type": "code",
      "execution_count": null,
      "metadata": {
        "id": "2LiEMBtAqS4A"
      },
      "outputs": [],
      "source": [
        "\n",
        "# Merge the two DataFrames based on a common key (e.g., Phone Number)\n",
        "combined_df = pd.merge(telecom1_df, telecom2_df, on=\"phone number\", how=\"inner\")"
      ]
    },
    {
      "cell_type": "code",
      "execution_count": null,
      "metadata": {
        "id": "Tomc7--KrXq9"
      },
      "outputs": [],
      "source": []
    },
    {
      "cell_type": "code",
      "execution_count": null,
      "metadata": {
        "colab": {
          "base_uri": "https://localhost:8080/"
        },
        "id": "MSZeZeQGq-8L",
        "outputId": "2088d119-15bf-4414-cb1b-38564ccb75ed"
      },
      "outputs": [],
      "source": [
        "print(combined_df)"
      ]
    },
    {
      "cell_type": "code",
      "execution_count": null,
      "metadata": {
        "colab": {
          "base_uri": "https://localhost:8080/"
        },
        "id": "1k6ZGALLraWq",
        "outputId": "2bb9a881-bf5d-4914-fbae-caf8ad40e9e8"
      },
      "outputs": [],
      "source": [
        "\n",
        "# Check shape\n",
        "expected_rows = telecom1_df.shape[0] + telecom2_df.shape[0]\n",
        "expected_columns = telecom1_df.shape[1]  # all DataFrames have the same columns\n",
        "if combined_df.shape == (expected_rows, expected_columns):\n",
        "    print(\"Shape matches: No data loss or duplication.\")\n",
        "else:\n",
        "    print(\"Shape does not match: Check for data integrity.\")\n",
        "\n",
        "# Check for duplicates\n",
        "if combined_df.duplicated().any():\n",
        "    print(\"Duplicates found: Investigate further.\")\n",
        "else:\n",
        "    print(\"No duplicates: Data integrity maintained.\")\n"
      ]
    },
    {
      "cell_type": "code",
      "execution_count": null,
      "metadata": {
        "id": "5J_YoHttx09q"
      },
      "outputs": [],
      "source": [
        "import pandas as pd\n",
        "telecom_df = pd.read_csv(\"telecom_dataset.csv\")"
      ]
    },
    {
      "cell_type": "code",
      "execution_count": null,
      "metadata": {
        "colab": {
          "base_uri": "https://localhost:8080/"
        },
        "id": "bFdeej7YyXh2",
        "outputId": "e478ff07-7c23-4be0-c809-bffd335303b9"
      },
      "outputs": [],
      "source": [
        "missing_values = telecom_df.isnull().sum()\n",
        "print(missing_values)\n"
      ]
    },
    {
      "cell_type": "code",
      "execution_count": null,
      "metadata": {
        "id": "gB-1Yf3AK5EG"
      },
      "outputs": [],
      "source": [
        "mean_value = telecom_df['total day minutes'].mean()\n",
        "median_value = telecom_df['total day minutes'].median()\n",
        "std_dev = telecom_df['total day minutes'].std()\n",
        "min_value = telecom_df['total day minutes'].min()\n",
        "max_value = telecom_df['total day minutes'].max()\n",
        "quantiles = telecom_df['total day minutes'].quantile([0.25, 0.5, 0.75])"
      ]
    },
    {
      "cell_type": "code",
      "execution_count": null,
      "metadata": {
        "colab": {
          "base_uri": "https://localhost:8080/"
        },
        "id": "dAeqV1mWOOgj",
        "outputId": "5b188a65-37e4-4151-87a2-bca58d5ea1fa"
      },
      "outputs": [],
      "source": [
        "print(\"Mean:\", mean_value)\n",
        "print(\"Median:\", median_value)\n",
        "print(\"Standard Deviation:\", std_dev)\n",
        "print(\"Minimum:\", min_value)\n",
        "print(\"Maximum:\", max_value)\n",
        "print(\"Quantiles:\")\n",
        "print(quantiles)"
      ]
    },
    {
      "cell_type": "code",
      "execution_count": null,
      "metadata": {
        "colab": {
          "base_uri": "https://localhost:8080/",
          "height": 472
        },
        "id": "pCf2hX2PZYzy",
        "outputId": "196c2f5c-e8bb-4389-b1bc-cf596b1d1344"
      },
      "outputs": [],
      "source": [
        "import matplotlib.pyplot as plt\n",
        "\n",
        "\n",
        "plt.scatter(telecom_df['phone number'], telecom_df['total intl calls'])\n",
        "plt.xlabel('phone number')\n",
        "plt.ylabel('total intl calls')\n",
        "plt.title('Scatter Plot of phone number vs total intl calls')\n",
        "plt.show()"
      ]
    },
    {
      "cell_type": "code",
      "execution_count": null,
      "metadata": {
        "colab": {
          "base_uri": "https://localhost:8080/",
          "height": 1000
        },
        "id": "O39BqIDdc4W5",
        "outputId": "a91d0d6d-0608-47d8-f115-fb921e63bec4"
      },
      "outputs": [],
      "source": [
        "import seaborn as sns\n",
        "\n",
        "sns.pairplot(telecom_df)\n",
        "plt.show()"
      ]
    },
    {
      "cell_type": "code",
      "execution_count": null,
      "metadata": {
        "colab": {
          "base_uri": "https://localhost:8080/",
          "height": 321
        },
        "id": "4Un-t9ixe7v7",
        "outputId": "f43a2828-3764-4d94-d630-1e755f57b708"
      },
      "outputs": [],
      "source": [
        "corr = telecom_df.corr()\n",
        "sns.heatmap(corr, annot=True)\n",
        "plt.show()"
      ]
    },
    {
      "cell_type": "code",
      "execution_count": null,
      "metadata": {
        "colab": {
          "base_uri": "https://localhost:8080/",
          "height": 592
        },
        "id": "cH_UfT5ufx5p",
        "outputId": "d2bcb3d8-9a0d-4fe7-f0e2-6acd8bac498a"
      },
      "outputs": [],
      "source": [
        "import seaborn as sns\n",
        "import matplotlib.pyplot as plt\n",
        "import numpy as np\n",
        "\n",
        "# Select only numeric columns for correlation calculation\n",
        "numeric_df = telecom_df.select_dtypes(include=[np.number])\n",
        "\n",
        "# Calculate the correlation matrix\n",
        "corr = numeric_df.corr()\n",
        "\n",
        "# Create the heatmap\n",
        "sns.heatmap(corr, annot=True)\n",
        "plt.show()"
      ]
    },
    {
      "cell_type": "code",
      "execution_count": null,
      "metadata": {
        "colab": {
          "base_uri": "https://localhost:8080/",
          "height": 1000
        },
        "id": "TC2SZlJekhEF",
        "outputId": "5aa18177-0fff-4467-c1c7-d2c767816906"
      },
      "outputs": [],
      "source": [
        "import seaborn as sns\n",
        "\n",
        "\n",
        "# Pairplot for visualizing pairwise relationships\n",
        "sns.pairplot(telecom_df)\n",
        "\n",
        "# Correlation matrix with heatmap\n",
        "correlation_matrix = telecom_df.corr()\n",
        "sns.heatmap(correlation_matrix, annot=True)"
      ]
    },
    {
      "cell_type": "code",
      "execution_count": null,
      "metadata": {
        "colab": {
          "base_uri": "https://localhost:8080/",
          "height": 1000
        },
        "id": "B9348dcyoauM",
        "outputId": "aa58497e-000b-4fe5-8132-4da806bb8b42"
      },
      "outputs": [],
      "source": [
        "import seaborn as sns\n",
        "import matplotlib.pyplot as plt  # Import matplotlib.pyplot\n",
        "\n",
        "\n",
        "# Create a Pairplot\n",
        "sns.pairplot(telecom_df)\n",
        "\n",
        "# Display the plot\n",
        "plt.show()  # Use plt.show() to display the plot"
      ]
    },
    {
      "cell_type": "code",
      "execution_count": null,
      "metadata": {
        "colab": {
          "base_uri": "https://localhost:8080/",
          "height": 1000
        },
        "id": "oojfV4svp6Pc",
        "outputId": "8e89ef58-38fb-4c7d-db21-2cd2bdabc5de"
      },
      "outputs": [],
      "source": [
        "import seaborn as sns\n",
        "import matplotlib.pyplot as plt  # Import matplotlib for displaying the plot\n",
        "\n",
        "\n",
        "# Create a Pairplot\n",
        "sns.pairplot(telecom_df)\n",
        "\n",
        "# Display the plot\n",
        "plt.show()  # Display the pair plot"
      ]
    }
  ],
  "metadata": {
    "colab": {
      "provenance": []
    },
    "kernelspec": {
      "display_name": "Python 3",
      "name": "python3"
    },
    "language_info": {
      "name": "python"
    }
  },
  "nbformat": 4,
  "nbformat_minor": 0
}
